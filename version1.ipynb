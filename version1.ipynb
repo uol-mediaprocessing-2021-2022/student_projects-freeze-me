{
 "cells": [
  {
   "cell_type": "code",
   "execution_count": 56,
   "id": "6426c6e6",
   "metadata": {},
   "outputs": [
    {
     "data": {
      "text/plain": [
       "('test2_video.mp4', <http.client.HTTPMessage at 0x2427f517340>)"
      ]
     },
     "execution_count": 56,
     "metadata": {},
     "output_type": "execute_result"
    }
   ],
   "source": [
    "#Download video\n",
    "import urllib.request\n",
    "url = 'https://previews.customer.envatousercontent.com/h264-video-previews/0888dd36-1a5b-4e5b-9fbf-e7bca069d213/16602591.mp4'\n",
    "url2 = 'https://media.istockphoto.com/videos/male-dancer-in-studio-shows-ballerina-spin-video-id929138872'\n",
    "file = 'test2_video.mp4'\n",
    "urllib.request.urlretrieve(url2,file)"
   ]
  },
  {
   "cell_type": "code",
   "execution_count": 59,
   "id": "2cb7ae23",
   "metadata": {},
   "outputs": [],
   "source": [
    "#import opencv and open video stream\n",
    "import cv2\n",
    "import numpy as np\n",
    "from random import random as rand\n",
    "\n",
    "stream = cv2.VideoCapture(file)\n",
    "frame_count = int(stream.get(cv2.CAP_PROP_FRAME_COUNT))"
   ]
  },
  {
   "cell_type": "code",
   "execution_count": 60,
   "id": "08a42512",
   "metadata": {},
   "outputs": [
    {
     "data": {
      "text/plain": [
       "True"
      ]
     },
     "execution_count": 60,
     "metadata": {},
     "output_type": "execute_result"
    }
   ],
   "source": [
    "images = []\n",
    "#_, frame = stream.read()\n",
    "#b,g,r = cv2.split(frame)\n",
    "for i in range(frame_count):\n",
    "    _, frame = stream.read()\n",
    "    images.append(frame)\n",
    "    if rand()*40>39:\n",
    "        for j in range(10):\n",
    "            images.append(frame)\n",
    "\n",
    "avg_img = np.mean(images, axis=0)\n",
    "avg_img = avg_img.astype(np.uint8)\n",
    "cv2.imwrite('test2.png', avg_img)\n",
    "\n",
    "    "
   ]
  },
  {
   "cell_type": "code",
   "execution_count": null,
   "id": "a0a58d6a",
   "metadata": {},
   "outputs": [],
   "source": []
  }
 ],
 "metadata": {
  "kernelspec": {
   "display_name": "Python 3 (ipykernel)",
   "language": "python",
   "name": "python3"
  },
  "language_info": {
   "codemirror_mode": {
    "name": "ipython",
    "version": 3
   },
   "file_extension": ".py",
   "mimetype": "text/x-python",
   "name": "python",
   "nbconvert_exporter": "python",
   "pygments_lexer": "ipython3",
   "version": "3.10.0"
  }
 },
 "nbformat": 4,
 "nbformat_minor": 5
}
