{
 "cells": [
  {
   "cell_type": "code",
   "execution_count": 30,
   "id": "863db792",
   "metadata": {
    "scrolled": true
   },
   "outputs": [
    {
     "data": {
      "text/plain": [
       "('test2_video.mp4', <http.client.HTTPMessage at 0x2896977b6d0>)"
      ]
     },
     "execution_count": 30,
     "metadata": {},
     "output_type": "execute_result"
    }
   ],
   "source": [
    "#Download video\n",
    "import urllib.request\n",
    "url = 'https://previews.customer.envatousercontent.com/h264-video-previews/0888dd36-1a5b-4e5b-9fbf-e7bca069d213/16602591.mp4'\n",
    "url2 = 'https://media.istockphoto.com/videos/male-dancer-in-studio-shows-ballerina-spin-video-id929138872'\n",
    "url3 = 'https://media.istockphoto.com/videos/baseball-batter-hitting-ball-during-game-video-id640837234'\n",
    "url4 = 'https://media.istockphoto.com/videos/modern-dancer-girl-in-white-dress-starts-dancing-contemporary-on-video-id516645076'\n",
    "#url5 = Geometry\n",
    "url5 = 'https://media.istockphoto.com/videos/abstract-logo-promo-pattern-of-circles-with-the-effect-of-white-video-id1220546660'\n",
    "file = 'test2_video.mp4'\n",
    "urllib.request.urlretrieve(url3,file)"
   ]
  },
  {
   "cell_type": "code",
   "execution_count": 31,
   "id": "57f4e309",
   "metadata": {},
   "outputs": [],
   "source": [
    "#import opencv and open video stream\n",
    "import cv2\n",
    "import numpy as np\n",
    "from random import random as rand\n",
    "\n",
    "stream = cv2.VideoCapture(file)\n",
    "_, firstframe = stream.read()\n",
    "frame_count = int(stream.get(cv2.CAP_PROP_FRAME_COUNT))"
   ]
  },
  {
   "cell_type": "code",
   "execution_count": 27,
   "id": "a70bc8eb",
   "metadata": {
    "scrolled": true
   },
   "outputs": [
    {
     "data": {
      "text/plain": [
       "True"
      ]
     },
     "execution_count": 27,
     "metadata": {},
     "output_type": "execute_result"
    }
   ],
   "source": [
    "images = []\n",
    "#_, frame = stream.read()\n",
    "#b,g,r = cv2.split(frame)\n",
    "for i in range(frame_count):\n",
    "    _, frame = stream.read()\n",
    "    images.append(frame)\n",
    "    if rand()*40>39:\n",
    "        for j in range(10):\n",
    "            images.append(frame)\n",
    "\n",
    "avg_img = np.mean(images, axis=0)\n",
    "avg_img = avg_img.astype(np.uint8)\n",
    "cv2.imwrite('test3.png', avg_img)"
   ]
  },
  {
   "cell_type": "code",
   "execution_count": 32,
   "id": "e739bc41",
   "metadata": {
    "scrolled": false
   },
   "outputs": [
    {
     "data": {
      "text/plain": [
       "True"
      ]
     },
     "execution_count": 32,
     "metadata": {},
     "output_type": "execute_result"
    }
   ],
   "source": [
    "images = []\n",
    "kernel = cv2.getStructuringElement(cv2.MORPH_ELLIPSE,(3,3))\n",
    "fgbg = cv2.bgsegm.createBackgroundSubtractorMOG()\n",
    "for i in range(frame_count-1):\n",
    "    _, frame = stream.read()\n",
    "    fgmask = fgbg.apply(frame)\n",
    "    rgba = cv2.cvtColor(frame, cv2.COLOR_RGB2BGRA)\n",
    "    rgba[:, :, 3] = fgmask\n",
    "    images.append(rgba)\n",
    "    \n",
    "    avg_img = np.mean(images, axis=0)\n",
    "    avg_img = avg_img.astype(np.uint8)\n",
    "cv2.imwrite('test2.png', avg_img)\n",
    "\n",
    "#merged_img = cv2.addWeighted(firstframe, 0.4, avg_img, 5, 0)\n",
    "#cv2.imwrite('test3.png', merged_img)"
   ]
  },
  {
   "cell_type": "code",
   "execution_count": 27,
   "id": "ada32d4d",
   "metadata": {
    "scrolled": true
   },
   "outputs": [],
   "source": [
    "import numpy as np\n",
    "import cv2"
   ]
  },
  {
   "cell_type": "code",
   "execution_count": 28,
   "id": "603ac20e",
   "metadata": {},
   "outputs": [
    {
     "data": {
      "text/plain": [
       "True"
      ]
     },
     "execution_count": 28,
     "metadata": {},
     "output_type": "execute_result"
    }
   ],
   "source": [
    "images = []\n",
    "stream = cv2.VideoCapture(file)\n",
    "frame_count = int(stream.get(cv2.CAP_PROP_FRAME_COUNT))\n",
    "for i in range(frame_count-1):\n",
    "    _, frame = stream.read()\n",
    "    gray = cv2.cvtColor(frame, cv2.COLOR_BGR2GRAY)\n",
    "    edged = cv2.Canny(gray,30,200)\n",
    "    images.append(edged)\n",
    "avg_img = np.mean(images, axis=0)\n",
    "avg_img = avg_img.astype(np.uint8)\n",
    "cv2.imwrite('test3.png', avg_img)"
   ]
  }
 ],
 "metadata": {
  "kernelspec": {
   "display_name": "Python 3 (ipykernel)",
   "language": "python",
   "name": "python3"
  },
  "language_info": {
   "codemirror_mode": {
    "name": "ipython",
    "version": 3
   },
   "file_extension": ".py",
   "mimetype": "text/x-python",
   "name": "python",
   "nbconvert_exporter": "python",
   "pygments_lexer": "ipython3",
   "version": "3.10.0"
  }
 },
 "nbformat": 4,
 "nbformat_minor": 5
}
